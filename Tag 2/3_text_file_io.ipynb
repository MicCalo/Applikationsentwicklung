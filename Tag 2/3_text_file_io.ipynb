{
 "cells": [
  {
   "cell_type": "markdown",
   "metadata": {},
   "source": [
    "# Dateien lesen und schreiben\n",
    "## Text-Dateien"
   ]
  },
  {
   "cell_type": "markdown",
   "metadata": {},
   "source": [
    "Text-Dateien werden in der Regel zeilenweise gelesen (*readline()*) oder die gesamte Datei auf einmal (*readlines()*).\n",
    "\n",
    "Nachfolgend ein Beispiel, in welchem die Datei zeilenweise eingelesen wird und jede Zeile auf der Konsole ausgegeben wird:"
   ]
  },
  {
   "cell_type": "code",
   "execution_count": 13,
   "metadata": {},
   "outputs": [
    {
     "name": "stdout",
     "output_type": "stream",
     "text": [
      "Erste Zeile\n",
      "Zweite Zeile\n",
      "Dritte Zeile\n",
      "\n",
      "Zeile oben ist leer\n",
      "Letzte Zeile\n"
     ]
    }
   ],
   "source": [
    "with open('Data/2_test.txt', 'r') as input_file:\n",
    "    while True: # do 'forever'\n",
    "        line = input_file.readline()\n",
    "        if not line: break # actually not forever, just until nothing is read anymore\n",
    "        print(line.strip()) # print line but without trailing newline\n"
   ]
  },
  {
   "cell_type": "markdown",
   "metadata": {},
   "source": [
    "Schreiben erfolgt in der Regel auch Zeilenweise, wobei der Zeilenumbruch manuell mitgegeben werden muss."
   ]
  },
  {
   "cell_type": "code",
   "execution_count": 2,
   "metadata": {},
   "outputs": [],
   "source": [
    "with open('Data/.2_result.txt', 'w') as output_file:\n",
    "    output_file.write('line 1\\n') \n",
    "    output_file.write('line 2\\n')\n",
    "    output_file.write('line 3\\n') \n",
    "    output_file.write('line 4\\n') \n",
    " "
   ]
  }
 ],
 "metadata": {
  "kernelspec": {
   "display_name": "Python 3 (ipykernel)",
   "language": "python",
   "name": "python3"
  },
  "language_info": {
   "codemirror_mode": {
    "name": "ipython",
    "version": 3
   },
   "file_extension": ".py",
   "mimetype": "text/x-python",
   "name": "python",
   "nbconvert_exporter": "python",
   "pygments_lexer": "ipython3",
   "version": "3.11.0"
  },
  "vscode": {
   "interpreter": {
    "hash": "45389a7f49d4d8bdcdb5b612c30e876da93e1cc187af31636be282751cfd8de0"
   }
  }
 },
 "nbformat": 4,
 "nbformat_minor": 2
}
