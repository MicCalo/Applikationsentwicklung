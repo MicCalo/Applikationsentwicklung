{
 "cells": [
  {
   "cell_type": "markdown",
   "metadata": {},
   "source": [
    "# strings\n",
    "## string literale\n",
    "### Normale Stringliterale\n",
    "Zwischen Hochkommas oder doppelten Hochkommas. Wahl ist \"beliebig\"...\n",
    "\n",
    "- **Aber**: ich persönlich würde empfehlen, für Texte, welche dem Benutzer angezeigt werden und potentiell übersetzt werden könnten, doppelte Hochkommas zu verwenden.\n",
    "- Einfache Hochkommas sind eher für Schlüssel, feststehende Strings für Bibliotheken\n",
    "\n",
    "### Zusammengesetze Strings (string concatenation)\n",
    "\n",
    "__[f-strings](https://realpython.com/python-f-strings/)__ sind zu bevorzugen.\n"
   ]
  },
  {
   "cell_type": "code",
   "execution_count": 4,
   "metadata": {},
   "outputs": [
    {
     "name": "stdout",
     "output_type": "stream",
     "text": [
      "Guten Tag Gion Antoni Derungs\n",
      "Guten Tag Gion Antoni Derungs \n",
      "Guten Tag Gion Antoni Derungs\n"
     ]
    }
   ],
   "source": [
    "name = \"Gion Antoni Derungs\"\n",
    "print(\"Guten Tag \" + name)\n",
    "print(\"Guten Tag {0} \".format(name))\n",
    "print(f\"Guten Tag {name}\")"
   ]
  },
  {
   "cell_type": "markdown",
   "metadata": {},
   "source": [
    "Bei string-Formatierungen is es jeweils auch möglich, weitere Formatierungsangaben mitzugeben. Dies ist meisten bei Fliesskommazahlen relevant.\n",
    "\n",
    "Bei floats ist der Syntax `<value>:<width>.<precision>f`"
   ]
  },
  {
   "cell_type": "code",
   "execution_count": 6,
   "metadata": {},
   "outputs": [
    {
     "name": "stdout",
     "output_type": "stream",
     "text": [
      "Value: 0.33\n",
      "Value: 33.22\n",
      "Value:   0.332\n",
      "Value:  33.223\n",
      "      |1234567|\n"
     ]
    }
   ],
   "source": [
    "val = 1.0 / 3.01\n",
    "\n",
    "\n",
    "# Two digits after the dot, no minimal width specified\n",
    "print(f\"Value: {val:.2f}\")\n",
    "print(\"Value: {0:.2f}\".format(val*100))\n",
    "\n",
    "#Three digits after the dot, minimal width will be 7 chars\n",
    "print(f\"Value: {val:7.3f}\")\n",
    "print(\"Value: {0:7.3f}\".format(val * 100))\n",
    "print(\"      |1234567|\")"
   ]
  },
  {
   "cell_type": "markdown",
   "metadata": {},
   "source": [
    "In diesen Arten von Strings müssen Zeilenumbrüche explizit angegeben werden.\n",
    "\\n wird als De-Facto-Standart auch auf Windows-Plattformen verwendet"
   ]
  },
  {
   "cell_type": "code",
   "execution_count": 9,
   "metadata": {},
   "outputs": [
    {
     "name": "stdout",
     "output_type": "stream",
     "text": [
      "Guten Tag\n",
      "Sie haben in der Lotterie gewonnen.\n"
     ]
    }
   ],
   "source": [
    "multiline_string = \"Guten Tag\\nSie haben in der Lotterie gewonnen.\"\n",
    "\n",
    "print(multiline_string)"
   ]
  },
  {
   "cell_type": "markdown",
   "metadata": {},
   "source": [
    "### docstrings\n",
    "Alles in drei Hochkommas wird auch docstrings genannt. Zeilenumbrüche werden so übernommen, wie sie im Quellcode vorkommen.\n",
    "\n",
    "Sie werden auch verwendet, um z. B. Funktionen zu dokumentieren, da sie im Gegensatz zu Kommentaren vom Interpreter **nicht** entfernt werden. "
   ]
  },
  {
   "cell_type": "code",
   "execution_count": 4,
   "metadata": {},
   "outputs": [
    {
     "name": "stdout",
     "output_type": "stream",
     "text": [
      "Lorem ipsum dolor sit amet,\n",
      "consectetur adipiscing elit,\n",
      "sed do eiusmod tempor incididunt\n",
      "ut labore et dolore magna aliqua.\n"
     ]
    }
   ],
   "source": [
    "my_doc_string = \"\"\"Lorem ipsum dolor sit amet,\n",
    "consectetur adipiscing elit,\n",
    "sed do eiusmod tempor incididunt\n",
    "ut labore et dolore magna aliqua.\"\"\"\n",
    "print(my_doc_string)"
   ]
  },
  {
   "cell_type": "code",
   "execution_count": 5,
   "metadata": {},
   "outputs": [
    {
     "name": "stdout",
     "output_type": "stream",
     "text": [
      " This function return the bigger value of a and b. \n"
     ]
    }
   ],
   "source": [
    "def max(a, b):\n",
    "    \"\"\" This function return the bigger value of a and b. \"\"\"\n",
    "    if a>b:\n",
    "        return a\n",
    "    return b\n",
    "\n",
    "print(max.__doc__)"
   ]
  },
  {
   "cell_type": "markdown",
   "metadata": {},
   "source": [
    "## String Methoden"
   ]
  },
  {
   "cell_type": "markdown",
   "metadata": {},
   "source": [
    "### Abfragen"
   ]
  },
  {
   "cell_type": "markdown",
   "metadata": {},
   "source": [
    "**len** liefert die Anzahl Zeichen (characters)"
   ]
  },
  {
   "cell_type": "code",
   "execution_count": 11,
   "metadata": {},
   "outputs": [
    {
     "name": "stdout",
     "output_type": "stream",
     "text": [
      "my_string ist 11 Zeichen lang\n"
     ]
    }
   ],
   "source": [
    "my_string = \"Hallo Welt😊\"\n",
    "print(f\"my_string ist {len(my_string)} Zeichen lang\")"
   ]
  },
  {
   "cell_type": "markdown",
   "metadata": {},
   "source": [
    "Der **Index-Operator** wird verwendet, um ein Zeichen abzufragen"
   ]
  },
  {
   "cell_type": "code",
   "execution_count": 12,
   "metadata": {},
   "outputs": [
    {
     "name": "stdout",
     "output_type": "stream",
     "text": [
      "Das 11te Zeichen in my_string ist '😊'\n"
     ]
    }
   ],
   "source": [
    "\n",
    "print(f\"Das 11te Zeichen in my_string ist '{my_string[10]}'\")"
   ]
  },
  {
   "cell_type": "markdown",
   "metadata": {},
   "source": [
    "**Slicing** wird verwendet, um einen Teilstring zu erhalten\n",
    "\n",
    "*substring = my_string[6:10]*\n",
    "\n",
    "6: Erstes Zeichen, null-basiert, inklusive\n",
    "\n",
    "10: Letztes Zeichen, null basiert, exclusive\n"
   ]
  },
  {
   "cell_type": "code",
   "execution_count": 13,
   "metadata": {},
   "outputs": [
    {
     "name": "stdout",
     "output_type": "stream",
     "text": [
      "Zeichen 7 bis 10 in substring sind 'Welt'\n"
     ]
    }
   ],
   "source": [
    "substring = my_string[6:10]\n",
    "print(f\"Zeichen 7 bis 10 in substring sind '{substring}'\")"
   ]
  },
  {
   "cell_type": "markdown",
   "metadata": {},
   "source": [
    "*von* oder *bis* kann auch weggelassen werden:\n",
    "\n",
    "*start = my_string[:5]*\n",
    "\n",
    "*end = my_string[6:]*"
   ]
  },
  {
   "cell_type": "code",
   "execution_count": 14,
   "metadata": {},
   "outputs": [
    {
     "name": "stdout",
     "output_type": "stream",
     "text": [
      "first 5 chars of my_string are 'Hallo'\n",
      "my_string from position 7 on is 'Welt😊'\n"
     ]
    }
   ],
   "source": [
    "print(f\"first 5 chars of my_string are '{my_string[:5]}'\")\n",
    "print(f\"my_string from position 7 on is '{my_string[6:]}'\")\n"
   ]
  },
  {
   "cell_type": "markdown",
   "metadata": {},
   "source": [
    "**in** kann verwendet werden, um zu prüfen, ob ein Teilstring vorkommt."
   ]
  },
  {
   "cell_type": "code",
   "execution_count": 15,
   "metadata": {},
   "outputs": [
    {
     "name": "stdout",
     "output_type": "stream",
     "text": [
      "'Welt' kommt in my_doc_string vor: True\n",
      "'e' kommt in my_doc_string vor: True\n",
      "'😊' kommt in my_doc_string vor: True\n",
      "'Nix' kommt in my_doc_string vor: False\n"
     ]
    }
   ],
   "source": [
    "tests = ['Welt', 'e', '😊', 'Nix']\n",
    "\n",
    "for test in tests:\n",
    "    is_contained = test in my_string\n",
    "    print(f\"'{test}' kommt in my_doc_string vor: {is_contained}\")"
   ]
  },
  {
   "cell_type": "markdown",
   "metadata": {},
   "source": [
    "**split** und **join** teilt einen string auf resp. setzt ihn zusammen.\n",
    "\n"
   ]
  },
  {
   "cell_type": "code",
   "execution_count": 17,
   "metadata": {},
   "outputs": [
    {
     "name": "stdout",
     "output_type": "stream",
     "text": [
      "words are ['Ein', 'kurzer', 'Satz'] which is of type <class 'list'>\n",
      "Ein+kurzer+Satz\n"
     ]
    }
   ],
   "source": [
    "sentence = \"Ein kurzer Satz\"\n",
    "words = sentence.split(' ') # splits the string along the spaces\n",
    "print(f\"words are {words} which is of type {type(words)}\")\n",
    "new_sentence = '+'.join(words) # combine the words again with an underscore between.\n",
    "print(new_sentence)"
   ]
  },
  {
   "cell_type": "markdown",
   "metadata": {},
   "source": [
    "Diverse Methoden\n",
    "\n",
    "|Name|Beschreibung|\n",
    "| :- | :- |\n",
    "|`upper()`|Alles in Grossbuchstaben|\n",
    "|`lower()`|Alles in Kleinbuchstaben|\n",
    "|`replace(old, new)`|Ersetzt alle vorkommen von *old* mit *new*|\n",
    "|`ljust(len)`|füllt links Zeichen (in der Regel Leerzeichen) ein, bis der String *len** lang ist. |\n",
    "|`rjust(len)`|füllt rechts Zeichen (in der Regel Leerzeichen) ein, bis der String *len** lang ist. |\n",
    "|`strip(), lstrip(), rstrip()` | Entfernt Zeichen (in der Regel Leerzeichen) am Anfang, am Ende oder Anfang und am Ende. | \n",
    "|`startswith(start)` | testet, ob der string mit *start\" anfängt |\n",
    "\n",
    "Mehr Methoden sind in __[w3schools](https://www.w3schools.com/python/python_strings_methods.asp)__ zu finden.\n"
   ]
  },
  {
   "cell_type": "code",
   "execution_count": 22,
   "metadata": {},
   "outputs": [
    {
     "name": "stdout",
     "output_type": "stream",
     "text": [
      "|un geputzt|\n",
      "ungeputzt\n"
     ]
    }
   ],
   "source": [
    "test = \"   un geputzt\\t\\t   \\n\\r\"\n",
    "print(f\"|{test.strip()}|\")\n",
    "stripped = test.strip()\n",
    "stripped = stripped.replace(' ', '')\n",
    "print(stripped)"
   ]
  },
  {
   "cell_type": "markdown",
   "metadata": {},
   "source": [
    "## Escape Characters\n",
    "Einige Zeichen können so direkt nicht verwendet werden, z.B. das Hochkomma, Tabulator, Zeilenumbrüche, etc. In diesen Fällen muss der backslash verwendet werden."
   ]
  },
  {
   "cell_type": "code",
   "execution_count": 24,
   "metadata": {},
   "outputs": [
    {
     "name": "stdout",
     "output_type": "stream",
     "text": [
      "1\" sind 1/12 Fuss\n"
     ]
    }
   ],
   "source": [
    "print(\"1\\\" sind 1/12 Fuss\")"
   ]
  },
  {
   "cell_type": "markdown",
   "metadata": {},
   "source": [
    "Weitere Escape-Sequenzen\n",
    "\n",
    "|Code|Beschreibung|\n",
    "| :- | :- |\n",
    "|`\\'`|Hochkomma|\n",
    "|`\\\"`|Doppeltes Hochkomma|\n",
    "|`\\n`|Zeilenumbruch|\n",
    "|`\\t`|Tabulator|\n",
    "|`\\xHH`|Hex-Wert|\n",
    "|`\\uXXXX`|Unicode Codepunkt 16Bit|\n",
    "|`\\UXXXXXXXX`|Unicode Codepunkt 32Bit|\n",
    "\n"
   ]
  },
  {
   "cell_type": "code",
   "execution_count": 25,
   "metadata": {},
   "outputs": [
    {
     "name": "stdout",
     "output_type": "stream",
     "text": [
      "Beispiele für Escape-Sequenzen:\n",
      "\t- Das Copyright Zeichen ® ist Codepunkt 0xAE\n",
      "\t- Omega (Ω) ist u03A9\n",
      "\t- Das Emoticon 😀 ist 0x1F600\n"
     ]
    }
   ],
   "source": [
    "print(\"Beispiele für Escape-Sequenzen:\\n\\t- Das Copyright Zeichen \\xAE ist Codepunkt 0xAE\\n\\t- Omega (\\u03A9) ist u03A9\\n\\t- Das Emoticon \\U0001F600 ist 0x1F600\")"
   ]
  },
  {
   "cell_type": "markdown",
   "metadata": {},
   "source": [
    "## Regexps\n",
    "Reguläre Ausdrücke werden verwendet, um String-Muster zu finden. Ein beliebtes Beispiel ist das Muster einer E-Mail-Adresse. Wir werden hier nicht sehr tief in die Welt der Regexps eintauchen, aber Sie sollten wissen, wie sie ein Python eingesetzt werden können.\n",
    "\n",
    "Um Rexexps zu erstellen, testen und verstehen empfehle ich __[regex101.com](https://www.regex101.com)__."
   ]
  },
  {
   "cell_type": "code",
   "execution_count": 15,
   "metadata": {
    "scrolled": true
   },
   "outputs": [
    {
     "name": "stdout",
     "output_type": "stream",
     "text": [
      "'mail@to.me' does match. Group 1 is 'mail'.\n",
      "'http://www.ecosia.com' does not match.\n",
      "'Gion Antoni Derungs' does not match.\n",
      "'möteleÿ.crew@yahoo.com' does match. Group 1 is '.crew'.\n"
     ]
    }
   ],
   "source": [
    "import re\n",
    "\n",
    "tests = ['mail@to.me', 'http://www.ecosia.com', 'Gion Antoni Derungs', 'möteleÿ.crew@yahoo.com']\n",
    "\n",
    "regex_only_latin_lowercase_chars = r'([a-z._-]+)@[a-z._-]+'\n",
    "regex_word_chars = r'([\\w._-]+)@[\\w._-]+'\n",
    "regex = regex_only_latin_lowercase_chars\n",
    "for test in tests:\n",
    "    match = re.search(regex, test)\n",
    "    if match:\n",
    "        print(f\"'{test}' does match. Group 1 is '{match.group(1)}'.\")\n",
    "    else:\n",
    "        print(f\"'{test}' does not match.\")\n"
   ]
  }
 ],
 "metadata": {
  "kernelspec": {
   "display_name": "Python 3 (ipykernel)",
   "language": "python",
   "name": "python3"
  },
  "language_info": {
   "codemirror_mode": {
    "name": "ipython",
    "version": 3
   },
   "file_extension": ".py",
   "mimetype": "text/x-python",
   "name": "python",
   "nbconvert_exporter": "python",
   "pygments_lexer": "ipython3",
   "version": "3.11.0"
  },
  "vscode": {
   "interpreter": {
    "hash": "e176100370f6050ed722d697212059f8bef3a5ea064d561561d9fc35da14ffea"
   }
  }
 },
 "nbformat": 4,
 "nbformat_minor": 2
}
