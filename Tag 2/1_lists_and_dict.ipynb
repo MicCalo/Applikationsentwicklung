{
 "cells": [
  {
   "cell_type": "markdown",
   "metadata": {},
   "source": [
    "# Listen\n",
    "## Erstellen und Erweitern\n",
    "\n",
    "Wir habe bereits gesehen, wie Listen initialisiert werden können ( *my_list = [\"1\", \"23\", 1.43]* ) Natürlich können sie auch leer initialisiert werden: *list=[]*\n",
    "\n",
    "Danach können Listen erweitert werden:\n",
    "- **append**: Fügt ein Element am Schluss an\n",
    "- **extend**: Fügt mehrere Elemente am Schluss an\n",
    "- **insert**: fügt ein Element an einer beliebigen stelle ein\n"
   ]
  },
  {
   "cell_type": "code",
   "execution_count": 1,
   "metadata": {},
   "outputs": [
    {
     "name": "stdout",
     "output_type": "stream",
     "text": [
      "list = ['first entry', 'second entry', 'third entry', range(0, 3), 0, 1, 2, 'a', 'b', 'c']\n"
     ]
    }
   ],
   "source": [
    "list = []\n",
    "\n",
    "list.append(\"first entry\")\n",
    "list.append(\"second entry\")\n",
    "list.append(range(3)) # append adds one entry, here a Range\n",
    "list.extend(range(3)) # append adds multiple entries, here a Range\n",
    "list.extend('abc') # append adds multiple entries, here 'a', 'b' and 'c'\n",
    "list.insert(2, \"third entry\") # inserts an entry at a certain position\n",
    "\n",
    "print(f\"list = {list}\")"
   ]
  },
  {
   "cell_type": "markdown",
   "metadata": {},
   "source": [
    "Zu der Unterschied zwischen *append* und *extend* kommt dann richtig zum tragen, wenn eine ganze Liste eingefügt werden soll: *append* fügt die Liste als ein Element hinzu, während *extend* jedes einzelne Element in der hinzuzufügenden Liste einzeln anfügt."
   ]
  },
  {
   "cell_type": "markdown",
   "metadata": {},
   "source": [
    "# Abfragen und Überschreiben von Elementen\n",
    "Um ein Element an einer bestimmten Position abzufragen oder zu ändern, verwendet man die eckigen Klammern."
   ]
  },
  {
   "cell_type": "code",
   "execution_count": 2,
   "metadata": {},
   "outputs": [
    {
     "name": "stdout",
     "output_type": "stream",
     "text": [
      "Element at index 0 is 'first entry'\n"
     ]
    }
   ],
   "source": [
    "var = list[0]\n",
    "print(f\"Element at index 0 is '{var}'\")"
   ]
  },
  {
   "cell_type": "code",
   "execution_count": 3,
   "metadata": {},
   "outputs": [
    {
     "name": "stdout",
     "output_type": "stream",
     "text": [
      "Element at index 0 is 'premier entry'\n"
     ]
    }
   ],
   "source": [
    "list[0] = 'premier entry'\n",
    "var = list[0]\n",
    "print(f\"Element at index 0 is '{var}'\")"
   ]
  },
  {
   "cell_type": "markdown",
   "metadata": {},
   "source": [
    "## Position von Elementen Abfragen\n",
    "Die Position von Elementen in der Liste kann mit der Funktion **index(element)** abgefragt werden:"
   ]
  },
  {
   "cell_type": "code",
   "execution_count": 4,
   "metadata": {},
   "outputs": [
    {
     "name": "stdout",
     "output_type": "stream",
     "text": [
      "index of element 'third entry': 2\n"
     ]
    }
   ],
   "source": [
    "print(f\"index of element 'third entry': {list.index('third entry')}\")"
   ]
  },
  {
   "cell_type": "markdown",
   "metadata": {},
   "source": [
    "Falls das Element nicht in der Liste vorhanden ist, wird eine Exception geworfen:"
   ]
  },
  {
   "cell_type": "code",
   "execution_count": 5,
   "metadata": {},
   "outputs": [
    {
     "ename": "ValueError",
     "evalue": "'Tatzelwurm' is not in list",
     "output_type": "error",
     "traceback": [
      "\u001b[1;31m---------------------------------------------------------------------------\u001b[0m",
      "\u001b[1;31mValueError\u001b[0m                                Traceback (most recent call last)",
      "Cell \u001b[1;32mIn [5], line 1\u001b[0m\n\u001b[1;32m----> 1\u001b[0m \u001b[38;5;28mprint\u001b[39m(\u001b[38;5;124mf\u001b[39m\u001b[38;5;124m\"\u001b[39m\u001b[38;5;124mindex of element \u001b[39m\u001b[38;5;124m'\u001b[39m\u001b[38;5;124mTatzelwurm\u001b[39m\u001b[38;5;124m'\u001b[39m\u001b[38;5;124m: \u001b[39m\u001b[38;5;132;01m{\u001b[39;00m\u001b[38;5;28;43mlist\u001b[39;49m\u001b[38;5;241;43m.\u001b[39;49m\u001b[43mindex\u001b[49m\u001b[43m(\u001b[49m\u001b[38;5;124;43m'\u001b[39;49m\u001b[38;5;124;43mTatzelwurm\u001b[39;49m\u001b[38;5;124;43m'\u001b[39;49m\u001b[43m)\u001b[49m\u001b[38;5;132;01m}\u001b[39;00m\u001b[38;5;124m\"\u001b[39m)\n",
      "\u001b[1;31mValueError\u001b[0m: 'Tatzelwurm' is not in list"
     ]
    }
   ],
   "source": [
    "print(f\"index of element 'Tatzelwurm': {list.index('Tatzelwurm')}\")"
   ]
  },
  {
   "cell_type": "markdown",
   "metadata": {},
   "source": [
    "## Testen, ob ein Element in der Liste vorkommt\n",
    "Die Fehlermeldung von oben könnte verhindert werden, wenn zuvor geprüft wird, ob das gesuchte Element überhaupt in der Liste vorkommt. Dazu gibt es in Python den **in**-Operator."
   ]
  },
  {
   "cell_type": "code",
   "execution_count": 6,
   "metadata": {},
   "outputs": [
    {
     "name": "stdout",
     "output_type": "stream",
     "text": [
      "index of element 'third entry': 2\n"
     ]
    }
   ],
   "source": [
    "searched_element = \"third entry\"\n",
    "\n",
    "if searched_element in list:\n",
    "    print(f\"index of element '{searched_element}': {list.index(searched_element)}\")\n",
    "else:\n",
    "    print(f\"Element '{searched_element}' is not in list\")"
   ]
  },
  {
   "cell_type": "markdown",
   "metadata": {},
   "source": [
    "## Elemente löschen und Liste leeren\n",
    "\n",
    "Mit dem **del**-Operator können Elemente aus der Liste entfernt werden. Es ist auch möglich, ganze Bereiche zu entfernen. Dazu wird slicing verwendet, das wir hier aber nicht eingehend behandeln werden. Da es bei strings manchmal gebracht wird, erwähne ich slicing hier kurz."
   ]
  },
  {
   "cell_type": "code",
   "execution_count": 7,
   "metadata": {},
   "outputs": [
    {
     "name": "stdout",
     "output_type": "stream",
     "text": [
      "list = ['premier entry', 'second entry', 'third entry', 2, 'a', 'b', 'c']\n",
      "len(list) = 7\n"
     ]
    }
   ],
   "source": [
    "del list[3] # deletes the 4th entry (-> zero based), here the Range object\n",
    "del list[3:5] #deletes the 4th and the 5th entry, here 0 and 1\n",
    "print(f\"list = {list}\")\n",
    "print(f\"len(list) = {len(list)}\")"
   ]
  },
  {
   "cell_type": "markdown",
   "metadata": {},
   "source": [
    "Die **clear()**-Funktion leert die gesamte Liste."
   ]
  },
  {
   "cell_type": "code",
   "execution_count": 8,
   "metadata": {},
   "outputs": [
    {
     "name": "stdout",
     "output_type": "stream",
     "text": [
      "len(list) = 0\n"
     ]
    }
   ],
   "source": [
    "list.clear()\n",
    "print(f\"len(list) = {len(list)}\") # Output: len(list) = 0"
   ]
  },
  {
   "cell_type": "markdown",
   "metadata": {},
   "source": [
    "## Anzahl Element und länge der Liste\n",
    "**len()** liefert die Längeeiner Liste.Der Befehl **count()** kann verwendet werden, um zu zählen, wie häufig ein Element in der Liste vorkommt:"
   ]
  },
  {
   "cell_type": "code",
   "execution_count": 9,
   "metadata": {},
   "outputs": [
    {
     "name": "stdout",
     "output_type": "stream",
     "text": [
      "Element 'a' is 2 times in the list\n",
      "There are 5 elements in total in the list\n"
     ]
    }
   ],
   "source": [
    "list = ['a', 'b', 'c', 'a', 3]\n",
    "print(f\"Element 'a' is {list.count('a')} times in the list\")\n",
    "print(f\"There are {len(list)} elements in total in the list\")"
   ]
  },
  {
   "cell_type": "markdown",
   "metadata": {},
   "source": [
    "# Dictionaries\n",
    "## Erstellen und initialisieren\n",
    "Um ein Dictionary zu erstellen und initialisieren, werden die geschweiften Klammern verwendet: *phone_numbers = {\"Hans\": \"041 234\", \"Peter\": \"041 322\", \"Kunigunde\": \"052 431\"}*\n",
    "\n",
    "Um einen leeres Dictionary zu erstellen, verwendet man die Funktion **dict()**: *empty = dict()*"
   ]
  },
  {
   "cell_type": "code",
   "execution_count": 10,
   "metadata": {},
   "outputs": [
    {
     "name": "stdout",
     "output_type": "stream",
     "text": [
      "Phone numbers:    {'Hans': '041 234', 'Peter': '041 322', 'Kunigunde': '052 431'}\n",
      "empty dictionary: {}\n"
     ]
    }
   ],
   "source": [
    "phone_numbers = {\"Hans\": \"041 234\", \"Peter\": \"041 322\", \"Kunigunde\": \"052 431\"}\n",
    "empty = dict()\n",
    "\n",
    "print(f\"Phone numbers:    {phone_numbers}\")\n",
    "print(f\"empty dictionary: {empty}\")"
   ]
  },
  {
   "cell_type": "markdown",
   "metadata": {},
   "source": [
    "# Abfragen, Hinzufügen und Überschreiben von Elementen\n",
    "Wie bei Listen werden auch bei Dictionaries die eckigen Klammern verwendet:"
   ]
  },
  {
   "cell_type": "code",
   "execution_count": 11,
   "metadata": {},
   "outputs": [
    {
     "name": "stdout",
     "output_type": "stream",
     "text": [
      "Hans' phone number: 041 234\n"
     ]
    }
   ],
   "source": [
    "hans_phone_number = phone_numbers[\"Hans\"] # Return value associated with key 'Hans'\n",
    "print(f\"Hans' phone number: {hans_phone_number}\")"
   ]
  },
  {
   "cell_type": "markdown",
   "metadata": {},
   "source": [
    "Hinzufügen oder Überschreiben hat den selben Syntax - es kommt darauf an, ob es bereits ein Element mit dem gegebenen Schlüssel gibt:"
   ]
  },
  {
   "cell_type": "code",
   "execution_count": 12,
   "metadata": {},
   "outputs": [
    {
     "name": "stdout",
     "output_type": "stream",
     "text": [
      "Phone numbers: {'Hans': '000 000', 'Peter': '041 322', 'Kunigunde': '052 431', 'New Kid on the Block': '043 678'}\n"
     ]
    }
   ],
   "source": [
    "phone_numbers[\"Hans\"] = \"000 000\" # changes the value associated with key 'Hans' because entry is already present.\n",
    "phone_numbers[\"New Kid on the Block\"] = \"043 678\" # adds a new key/value pair\n",
    "\n",
    "print(f\"Phone numbers: {phone_numbers}\")"
   ]
  },
  {
   "cell_type": "code",
   "execution_count": null,
   "metadata": {},
   "outputs": [],
   "source": []
  },
  {
   "cell_type": "code",
   "execution_count": null,
   "metadata": {},
   "outputs": [],
   "source": []
  },
  {
   "cell_type": "code",
   "execution_count": null,
   "metadata": {},
   "outputs": [],
   "source": []
  },
  {
   "cell_type": "code",
   "execution_count": null,
   "metadata": {},
   "outputs": [],
   "source": []
  }
 ],
 "metadata": {
  "kernelspec": {
   "display_name": "Python 3 (ipykernel)",
   "language": "python",
   "name": "python3"
  },
  "language_info": {
   "codemirror_mode": {
    "name": "ipython",
    "version": 3
   },
   "file_extension": ".py",
   "mimetype": "text/x-python",
   "name": "python",
   "nbconvert_exporter": "python",
   "pygments_lexer": "ipython3",
   "version": "3.11.0"
  },
  "vscode": {
   "interpreter": {
    "hash": "45389a7f49d4d8bdcdb5b612c30e876da93e1cc187af31636be282751cfd8de0"
   }
  }
 },
 "nbformat": 4,
 "nbformat_minor": 2
}
